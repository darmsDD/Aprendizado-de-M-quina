{
  "nbformat": 4,
  "nbformat_minor": 0,
  "metadata": {
    "colab": {
      "provenance": [],
      "authorship_tag": "ABX9TyMkHn3w2Ncd71YjjLaAGrD6",
      "include_colab_link": true
    },
    "kernelspec": {
      "name": "python3",
      "display_name": "Python 3"
    },
    "language_info": {
      "name": "python"
    }
  },
  "cells": [
    {
      "cell_type": "markdown",
      "metadata": {
        "id": "view-in-github",
        "colab_type": "text"
      },
      "source": [
        "<a href=\"https://colab.research.google.com/github/darmsDD/Aprendizado-de-M-quina/blob/main/students_grades.ipynb\" target=\"_parent\"><img src=\"https://colab.research.google.com/assets/colab-badge.svg\" alt=\"Open In Colab\"/></a>"
      ]
    },
    {
      "cell_type": "markdown",
      "source": [
        "O dataset utilizado contém notas dos alunos em disciplinas durante a graduação. O meu objetivo é encontrar um correlação entre as notas de 2 disciplinas diferentes."
      ],
      "metadata": {
        "id": "ME_eq2oIip3x"
      }
    },
    {
      "cell_type": "markdown",
      "source": [
        "Importação de bibliotecas utilizadas"
      ],
      "metadata": {
        "id": "kbZQYExO2O-i"
      }
    },
    {
      "cell_type": "code",
      "execution_count": null,
      "metadata": {
        "id": "BsWPwOclinx9"
      },
      "outputs": [],
      "source": [
        "import numpy as np # linear algebra\n",
        "import pandas as pd # data processing, CSV file I/O (e.g. pd.read_csv)\n",
        "import math"
      ]
    },
    {
      "cell_type": "code",
      "source": [
        "df=pd.read_csv('./Grades.csv') # Leitura do arquivo"
      ],
      "metadata": {
        "id": "Oi_CvNowlGc0"
      },
      "execution_count": null,
      "outputs": []
    },
    {
      "cell_type": "code",
      "source": [
        "df.head() # Visualização do arquivo"
      ],
      "metadata": {
        "colab": {
          "base_uri": "https://localhost:8080/",
          "height": 236
        },
        "id": "1ZTMf6BLlVuu",
        "outputId": "37634fff-02af-4ff7-b4b0-c66a5679fe99"
      },
      "execution_count": null,
      "outputs": [
        {
          "output_type": "execute_result",
          "data": {
            "text/plain": [
              "   Seat No. PH-121 HS-101 CY-105 HS-105/12 MT-111 CS-105 CS-106 EL-102 EE-119  \\\n",
              "0  CS-97001     B-     D+     C-         C     C-     D+      D     C-     B-   \n",
              "1  CS-97002      A      D     D+         D     B-      C      D      A     D+   \n",
              "2  CS-97003      A      B      A        B-     B+      A     B-     B+     A-   \n",
              "3  CS-97004      D     C+     D+         D      D     A-     D+     C-      D   \n",
              "4  CS-97005     A-     A-     A-        B+      A      A     A-     B+      A   \n",
              "\n",
              "   ... CS-312 CS-317 CS-403 CS-421 CS-406 CS-414 CS-419 CS-423 CS-412   CGPA  \n",
              "0  ...     C-     C-     C-     C-     A-      A     C-      B     A-  2.205  \n",
              "1  ...     D+      D      C      D     A-     B-      C      C      B  2.008  \n",
              "2  ...      B      B      A      C      A      A      A     A-      A  3.608  \n",
              "3  ...     D+      C     D+     C-     B-      B     C+     C+     C+  1.906  \n",
              "4  ...     B-     B+     B+     B-     A-      A     A-     A-      A  3.448  \n",
              "\n",
              "[5 rows x 43 columns]"
            ],
            "text/html": [
              "\n",
              "  <div id=\"df-2c977d7d-4235-47ee-b5a3-644dad776919\">\n",
              "    <div class=\"colab-df-container\">\n",
              "      <div>\n",
              "<style scoped>\n",
              "    .dataframe tbody tr th:only-of-type {\n",
              "        vertical-align: middle;\n",
              "    }\n",
              "\n",
              "    .dataframe tbody tr th {\n",
              "        vertical-align: top;\n",
              "    }\n",
              "\n",
              "    .dataframe thead th {\n",
              "        text-align: right;\n",
              "    }\n",
              "</style>\n",
              "<table border=\"1\" class=\"dataframe\">\n",
              "  <thead>\n",
              "    <tr style=\"text-align: right;\">\n",
              "      <th></th>\n",
              "      <th>Seat No.</th>\n",
              "      <th>PH-121</th>\n",
              "      <th>HS-101</th>\n",
              "      <th>CY-105</th>\n",
              "      <th>HS-105/12</th>\n",
              "      <th>MT-111</th>\n",
              "      <th>CS-105</th>\n",
              "      <th>CS-106</th>\n",
              "      <th>EL-102</th>\n",
              "      <th>EE-119</th>\n",
              "      <th>...</th>\n",
              "      <th>CS-312</th>\n",
              "      <th>CS-317</th>\n",
              "      <th>CS-403</th>\n",
              "      <th>CS-421</th>\n",
              "      <th>CS-406</th>\n",
              "      <th>CS-414</th>\n",
              "      <th>CS-419</th>\n",
              "      <th>CS-423</th>\n",
              "      <th>CS-412</th>\n",
              "      <th>CGPA</th>\n",
              "    </tr>\n",
              "  </thead>\n",
              "  <tbody>\n",
              "    <tr>\n",
              "      <th>0</th>\n",
              "      <td>CS-97001</td>\n",
              "      <td>B-</td>\n",
              "      <td>D+</td>\n",
              "      <td>C-</td>\n",
              "      <td>C</td>\n",
              "      <td>C-</td>\n",
              "      <td>D+</td>\n",
              "      <td>D</td>\n",
              "      <td>C-</td>\n",
              "      <td>B-</td>\n",
              "      <td>...</td>\n",
              "      <td>C-</td>\n",
              "      <td>C-</td>\n",
              "      <td>C-</td>\n",
              "      <td>C-</td>\n",
              "      <td>A-</td>\n",
              "      <td>A</td>\n",
              "      <td>C-</td>\n",
              "      <td>B</td>\n",
              "      <td>A-</td>\n",
              "      <td>2.205</td>\n",
              "    </tr>\n",
              "    <tr>\n",
              "      <th>1</th>\n",
              "      <td>CS-97002</td>\n",
              "      <td>A</td>\n",
              "      <td>D</td>\n",
              "      <td>D+</td>\n",
              "      <td>D</td>\n",
              "      <td>B-</td>\n",
              "      <td>C</td>\n",
              "      <td>D</td>\n",
              "      <td>A</td>\n",
              "      <td>D+</td>\n",
              "      <td>...</td>\n",
              "      <td>D+</td>\n",
              "      <td>D</td>\n",
              "      <td>C</td>\n",
              "      <td>D</td>\n",
              "      <td>A-</td>\n",
              "      <td>B-</td>\n",
              "      <td>C</td>\n",
              "      <td>C</td>\n",
              "      <td>B</td>\n",
              "      <td>2.008</td>\n",
              "    </tr>\n",
              "    <tr>\n",
              "      <th>2</th>\n",
              "      <td>CS-97003</td>\n",
              "      <td>A</td>\n",
              "      <td>B</td>\n",
              "      <td>A</td>\n",
              "      <td>B-</td>\n",
              "      <td>B+</td>\n",
              "      <td>A</td>\n",
              "      <td>B-</td>\n",
              "      <td>B+</td>\n",
              "      <td>A-</td>\n",
              "      <td>...</td>\n",
              "      <td>B</td>\n",
              "      <td>B</td>\n",
              "      <td>A</td>\n",
              "      <td>C</td>\n",
              "      <td>A</td>\n",
              "      <td>A</td>\n",
              "      <td>A</td>\n",
              "      <td>A-</td>\n",
              "      <td>A</td>\n",
              "      <td>3.608</td>\n",
              "    </tr>\n",
              "    <tr>\n",
              "      <th>3</th>\n",
              "      <td>CS-97004</td>\n",
              "      <td>D</td>\n",
              "      <td>C+</td>\n",
              "      <td>D+</td>\n",
              "      <td>D</td>\n",
              "      <td>D</td>\n",
              "      <td>A-</td>\n",
              "      <td>D+</td>\n",
              "      <td>C-</td>\n",
              "      <td>D</td>\n",
              "      <td>...</td>\n",
              "      <td>D+</td>\n",
              "      <td>C</td>\n",
              "      <td>D+</td>\n",
              "      <td>C-</td>\n",
              "      <td>B-</td>\n",
              "      <td>B</td>\n",
              "      <td>C+</td>\n",
              "      <td>C+</td>\n",
              "      <td>C+</td>\n",
              "      <td>1.906</td>\n",
              "    </tr>\n",
              "    <tr>\n",
              "      <th>4</th>\n",
              "      <td>CS-97005</td>\n",
              "      <td>A-</td>\n",
              "      <td>A-</td>\n",
              "      <td>A-</td>\n",
              "      <td>B+</td>\n",
              "      <td>A</td>\n",
              "      <td>A</td>\n",
              "      <td>A-</td>\n",
              "      <td>B+</td>\n",
              "      <td>A</td>\n",
              "      <td>...</td>\n",
              "      <td>B-</td>\n",
              "      <td>B+</td>\n",
              "      <td>B+</td>\n",
              "      <td>B-</td>\n",
              "      <td>A-</td>\n",
              "      <td>A</td>\n",
              "      <td>A-</td>\n",
              "      <td>A-</td>\n",
              "      <td>A</td>\n",
              "      <td>3.448</td>\n",
              "    </tr>\n",
              "  </tbody>\n",
              "</table>\n",
              "<p>5 rows × 43 columns</p>\n",
              "</div>\n",
              "      <button class=\"colab-df-convert\" onclick=\"convertToInteractive('df-2c977d7d-4235-47ee-b5a3-644dad776919')\"\n",
              "              title=\"Convert this dataframe to an interactive table.\"\n",
              "              style=\"display:none;\">\n",
              "        \n",
              "  <svg xmlns=\"http://www.w3.org/2000/svg\" height=\"24px\"viewBox=\"0 0 24 24\"\n",
              "       width=\"24px\">\n",
              "    <path d=\"M0 0h24v24H0V0z\" fill=\"none\"/>\n",
              "    <path d=\"M18.56 5.44l.94 2.06.94-2.06 2.06-.94-2.06-.94-.94-2.06-.94 2.06-2.06.94zm-11 1L8.5 8.5l.94-2.06 2.06-.94-2.06-.94L8.5 2.5l-.94 2.06-2.06.94zm10 10l.94 2.06.94-2.06 2.06-.94-2.06-.94-.94-2.06-.94 2.06-2.06.94z\"/><path d=\"M17.41 7.96l-1.37-1.37c-.4-.4-.92-.59-1.43-.59-.52 0-1.04.2-1.43.59L10.3 9.45l-7.72 7.72c-.78.78-.78 2.05 0 2.83L4 21.41c.39.39.9.59 1.41.59.51 0 1.02-.2 1.41-.59l7.78-7.78 2.81-2.81c.8-.78.8-2.07 0-2.86zM5.41 20L4 18.59l7.72-7.72 1.47 1.35L5.41 20z\"/>\n",
              "  </svg>\n",
              "      </button>\n",
              "      \n",
              "  <style>\n",
              "    .colab-df-container {\n",
              "      display:flex;\n",
              "      flex-wrap:wrap;\n",
              "      gap: 12px;\n",
              "    }\n",
              "\n",
              "    .colab-df-convert {\n",
              "      background-color: #E8F0FE;\n",
              "      border: none;\n",
              "      border-radius: 50%;\n",
              "      cursor: pointer;\n",
              "      display: none;\n",
              "      fill: #1967D2;\n",
              "      height: 32px;\n",
              "      padding: 0 0 0 0;\n",
              "      width: 32px;\n",
              "    }\n",
              "\n",
              "    .colab-df-convert:hover {\n",
              "      background-color: #E2EBFA;\n",
              "      box-shadow: 0px 1px 2px rgba(60, 64, 67, 0.3), 0px 1px 3px 1px rgba(60, 64, 67, 0.15);\n",
              "      fill: #174EA6;\n",
              "    }\n",
              "\n",
              "    [theme=dark] .colab-df-convert {\n",
              "      background-color: #3B4455;\n",
              "      fill: #D2E3FC;\n",
              "    }\n",
              "\n",
              "    [theme=dark] .colab-df-convert:hover {\n",
              "      background-color: #434B5C;\n",
              "      box-shadow: 0px 1px 3px 1px rgba(0, 0, 0, 0.15);\n",
              "      filter: drop-shadow(0px 1px 2px rgba(0, 0, 0, 0.3));\n",
              "      fill: #FFFFFF;\n",
              "    }\n",
              "  </style>\n",
              "\n",
              "      <script>\n",
              "        const buttonEl =\n",
              "          document.querySelector('#df-2c977d7d-4235-47ee-b5a3-644dad776919 button.colab-df-convert');\n",
              "        buttonEl.style.display =\n",
              "          google.colab.kernel.accessAllowed ? 'block' : 'none';\n",
              "\n",
              "        async function convertToInteractive(key) {\n",
              "          const element = document.querySelector('#df-2c977d7d-4235-47ee-b5a3-644dad776919');\n",
              "          const dataTable =\n",
              "            await google.colab.kernel.invokeFunction('convertToInteractive',\n",
              "                                                     [key], {});\n",
              "          if (!dataTable) return;\n",
              "\n",
              "          const docLinkHtml = 'Like what you see? Visit the ' +\n",
              "            '<a target=\"_blank\" href=https://colab.research.google.com/notebooks/data_table.ipynb>data table notebook</a>'\n",
              "            + ' to learn more about interactive tables.';\n",
              "          element.innerHTML = '';\n",
              "          dataTable['output_type'] = 'display_data';\n",
              "          await google.colab.output.renderOutput(dataTable, element);\n",
              "          const docLink = document.createElement('div');\n",
              "          docLink.innerHTML = docLinkHtml;\n",
              "          element.appendChild(docLink);\n",
              "        }\n",
              "      </script>\n",
              "    </div>\n",
              "  </div>\n",
              "  "
            ]
          },
          "metadata": {},
          "execution_count": 3
        }
      ]
    },
    {
      "cell_type": "markdown",
      "source": [
        "A visualização abaixo mostra as 2 disciplinas que serão utilizadas."
      ],
      "metadata": {
        "id": "1yTzOeos2aBk"
      }
    },
    {
      "cell_type": "code",
      "source": [
        "df[['Seat No.','PH-121','HS-101']]"
      ],
      "metadata": {
        "colab": {
          "base_uri": "https://localhost:8080/",
          "height": 424
        },
        "id": "mnG_FZhIlulN",
        "outputId": "611f870b-4d3c-47b1-da54-410d48a9f152"
      },
      "execution_count": null,
      "outputs": [
        {
          "output_type": "execute_result",
          "data": {
            "text/plain": [
              "     Seat No. PH-121 HS-101\n",
              "0    CS-97001     B-     D+\n",
              "1    CS-97002      A      D\n",
              "2    CS-97003      A      B\n",
              "3    CS-97004      D     C+\n",
              "4    CS-97005     A-     A-\n",
              "..        ...    ...    ...\n",
              "566  CS-97567      B      A\n",
              "567  CS-97568     A+      A\n",
              "568  CS-97569      B      A\n",
              "569  CS-97570      A     B+\n",
              "570  CS-97571      C      D\n",
              "\n",
              "[571 rows x 3 columns]"
            ],
            "text/html": [
              "\n",
              "  <div id=\"df-069c109b-b51e-4a4a-860e-4127b16d4623\">\n",
              "    <div class=\"colab-df-container\">\n",
              "      <div>\n",
              "<style scoped>\n",
              "    .dataframe tbody tr th:only-of-type {\n",
              "        vertical-align: middle;\n",
              "    }\n",
              "\n",
              "    .dataframe tbody tr th {\n",
              "        vertical-align: top;\n",
              "    }\n",
              "\n",
              "    .dataframe thead th {\n",
              "        text-align: right;\n",
              "    }\n",
              "</style>\n",
              "<table border=\"1\" class=\"dataframe\">\n",
              "  <thead>\n",
              "    <tr style=\"text-align: right;\">\n",
              "      <th></th>\n",
              "      <th>Seat No.</th>\n",
              "      <th>PH-121</th>\n",
              "      <th>HS-101</th>\n",
              "    </tr>\n",
              "  </thead>\n",
              "  <tbody>\n",
              "    <tr>\n",
              "      <th>0</th>\n",
              "      <td>CS-97001</td>\n",
              "      <td>B-</td>\n",
              "      <td>D+</td>\n",
              "    </tr>\n",
              "    <tr>\n",
              "      <th>1</th>\n",
              "      <td>CS-97002</td>\n",
              "      <td>A</td>\n",
              "      <td>D</td>\n",
              "    </tr>\n",
              "    <tr>\n",
              "      <th>2</th>\n",
              "      <td>CS-97003</td>\n",
              "      <td>A</td>\n",
              "      <td>B</td>\n",
              "    </tr>\n",
              "    <tr>\n",
              "      <th>3</th>\n",
              "      <td>CS-97004</td>\n",
              "      <td>D</td>\n",
              "      <td>C+</td>\n",
              "    </tr>\n",
              "    <tr>\n",
              "      <th>4</th>\n",
              "      <td>CS-97005</td>\n",
              "      <td>A-</td>\n",
              "      <td>A-</td>\n",
              "    </tr>\n",
              "    <tr>\n",
              "      <th>...</th>\n",
              "      <td>...</td>\n",
              "      <td>...</td>\n",
              "      <td>...</td>\n",
              "    </tr>\n",
              "    <tr>\n",
              "      <th>566</th>\n",
              "      <td>CS-97567</td>\n",
              "      <td>B</td>\n",
              "      <td>A</td>\n",
              "    </tr>\n",
              "    <tr>\n",
              "      <th>567</th>\n",
              "      <td>CS-97568</td>\n",
              "      <td>A+</td>\n",
              "      <td>A</td>\n",
              "    </tr>\n",
              "    <tr>\n",
              "      <th>568</th>\n",
              "      <td>CS-97569</td>\n",
              "      <td>B</td>\n",
              "      <td>A</td>\n",
              "    </tr>\n",
              "    <tr>\n",
              "      <th>569</th>\n",
              "      <td>CS-97570</td>\n",
              "      <td>A</td>\n",
              "      <td>B+</td>\n",
              "    </tr>\n",
              "    <tr>\n",
              "      <th>570</th>\n",
              "      <td>CS-97571</td>\n",
              "      <td>C</td>\n",
              "      <td>D</td>\n",
              "    </tr>\n",
              "  </tbody>\n",
              "</table>\n",
              "<p>571 rows × 3 columns</p>\n",
              "</div>\n",
              "      <button class=\"colab-df-convert\" onclick=\"convertToInteractive('df-069c109b-b51e-4a4a-860e-4127b16d4623')\"\n",
              "              title=\"Convert this dataframe to an interactive table.\"\n",
              "              style=\"display:none;\">\n",
              "        \n",
              "  <svg xmlns=\"http://www.w3.org/2000/svg\" height=\"24px\"viewBox=\"0 0 24 24\"\n",
              "       width=\"24px\">\n",
              "    <path d=\"M0 0h24v24H0V0z\" fill=\"none\"/>\n",
              "    <path d=\"M18.56 5.44l.94 2.06.94-2.06 2.06-.94-2.06-.94-.94-2.06-.94 2.06-2.06.94zm-11 1L8.5 8.5l.94-2.06 2.06-.94-2.06-.94L8.5 2.5l-.94 2.06-2.06.94zm10 10l.94 2.06.94-2.06 2.06-.94-2.06-.94-.94-2.06-.94 2.06-2.06.94z\"/><path d=\"M17.41 7.96l-1.37-1.37c-.4-.4-.92-.59-1.43-.59-.52 0-1.04.2-1.43.59L10.3 9.45l-7.72 7.72c-.78.78-.78 2.05 0 2.83L4 21.41c.39.39.9.59 1.41.59.51 0 1.02-.2 1.41-.59l7.78-7.78 2.81-2.81c.8-.78.8-2.07 0-2.86zM5.41 20L4 18.59l7.72-7.72 1.47 1.35L5.41 20z\"/>\n",
              "  </svg>\n",
              "      </button>\n",
              "      \n",
              "  <style>\n",
              "    .colab-df-container {\n",
              "      display:flex;\n",
              "      flex-wrap:wrap;\n",
              "      gap: 12px;\n",
              "    }\n",
              "\n",
              "    .colab-df-convert {\n",
              "      background-color: #E8F0FE;\n",
              "      border: none;\n",
              "      border-radius: 50%;\n",
              "      cursor: pointer;\n",
              "      display: none;\n",
              "      fill: #1967D2;\n",
              "      height: 32px;\n",
              "      padding: 0 0 0 0;\n",
              "      width: 32px;\n",
              "    }\n",
              "\n",
              "    .colab-df-convert:hover {\n",
              "      background-color: #E2EBFA;\n",
              "      box-shadow: 0px 1px 2px rgba(60, 64, 67, 0.3), 0px 1px 3px 1px rgba(60, 64, 67, 0.15);\n",
              "      fill: #174EA6;\n",
              "    }\n",
              "\n",
              "    [theme=dark] .colab-df-convert {\n",
              "      background-color: #3B4455;\n",
              "      fill: #D2E3FC;\n",
              "    }\n",
              "\n",
              "    [theme=dark] .colab-df-convert:hover {\n",
              "      background-color: #434B5C;\n",
              "      box-shadow: 0px 1px 3px 1px rgba(0, 0, 0, 0.15);\n",
              "      filter: drop-shadow(0px 1px 2px rgba(0, 0, 0, 0.3));\n",
              "      fill: #FFFFFF;\n",
              "    }\n",
              "  </style>\n",
              "\n",
              "      <script>\n",
              "        const buttonEl =\n",
              "          document.querySelector('#df-069c109b-b51e-4a4a-860e-4127b16d4623 button.colab-df-convert');\n",
              "        buttonEl.style.display =\n",
              "          google.colab.kernel.accessAllowed ? 'block' : 'none';\n",
              "\n",
              "        async function convertToInteractive(key) {\n",
              "          const element = document.querySelector('#df-069c109b-b51e-4a4a-860e-4127b16d4623');\n",
              "          const dataTable =\n",
              "            await google.colab.kernel.invokeFunction('convertToInteractive',\n",
              "                                                     [key], {});\n",
              "          if (!dataTable) return;\n",
              "\n",
              "          const docLinkHtml = 'Like what you see? Visit the ' +\n",
              "            '<a target=\"_blank\" href=https://colab.research.google.com/notebooks/data_table.ipynb>data table notebook</a>'\n",
              "            + ' to learn more about interactive tables.';\n",
              "          element.innerHTML = '';\n",
              "          dataTable['output_type'] = 'display_data';\n",
              "          await google.colab.output.renderOutput(dataTable, element);\n",
              "          const docLink = document.createElement('div');\n",
              "          docLink.innerHTML = docLinkHtml;\n",
              "          element.appendChild(docLink);\n",
              "        }\n",
              "      </script>\n",
              "    </div>\n",
              "  </div>\n",
              "  "
            ]
          },
          "metadata": {},
          "execution_count": 4
        }
      ]
    },
    {
      "cell_type": "markdown",
      "source": [
        "Como as notas estão em um sistema de letras, realizei um tratamento dos dados para converter as notas em número."
      ],
      "metadata": {
        "id": "A-4VfB5n2huJ"
      }
    },
    {
      "cell_type": "code",
      "source": [
        "df = df.replace(['A+','A','A-','B+','B','B-',\n",
        "                 'C+','C','C-','D+','D','D-','F','WU'],\n",
        "                [100,98,93,90,85,80,75,70,65,60,55,50,0,0])\n",
        "df[['Seat No.','PH-121','HS-101']]"
      ],
      "metadata": {
        "colab": {
          "base_uri": "https://localhost:8080/",
          "height": 424
        },
        "id": "PJCU3xk2nwWK",
        "outputId": "683553ca-bab6-4b2d-e75f-545b2849351b"
      },
      "execution_count": null,
      "outputs": [
        {
          "output_type": "execute_result",
          "data": {
            "text/plain": [
              "     Seat No.  PH-121  HS-101\n",
              "0    CS-97001      80      60\n",
              "1    CS-97002      98      55\n",
              "2    CS-97003      98      85\n",
              "3    CS-97004      55      75\n",
              "4    CS-97005      93      93\n",
              "..        ...     ...     ...\n",
              "566  CS-97567      85      98\n",
              "567  CS-97568     100      98\n",
              "568  CS-97569      85      98\n",
              "569  CS-97570      98      90\n",
              "570  CS-97571      70      55\n",
              "\n",
              "[571 rows x 3 columns]"
            ],
            "text/html": [
              "\n",
              "  <div id=\"df-9c3eeafb-582c-45bf-889e-237c135b0b2d\">\n",
              "    <div class=\"colab-df-container\">\n",
              "      <div>\n",
              "<style scoped>\n",
              "    .dataframe tbody tr th:only-of-type {\n",
              "        vertical-align: middle;\n",
              "    }\n",
              "\n",
              "    .dataframe tbody tr th {\n",
              "        vertical-align: top;\n",
              "    }\n",
              "\n",
              "    .dataframe thead th {\n",
              "        text-align: right;\n",
              "    }\n",
              "</style>\n",
              "<table border=\"1\" class=\"dataframe\">\n",
              "  <thead>\n",
              "    <tr style=\"text-align: right;\">\n",
              "      <th></th>\n",
              "      <th>Seat No.</th>\n",
              "      <th>PH-121</th>\n",
              "      <th>HS-101</th>\n",
              "    </tr>\n",
              "  </thead>\n",
              "  <tbody>\n",
              "    <tr>\n",
              "      <th>0</th>\n",
              "      <td>CS-97001</td>\n",
              "      <td>80</td>\n",
              "      <td>60</td>\n",
              "    </tr>\n",
              "    <tr>\n",
              "      <th>1</th>\n",
              "      <td>CS-97002</td>\n",
              "      <td>98</td>\n",
              "      <td>55</td>\n",
              "    </tr>\n",
              "    <tr>\n",
              "      <th>2</th>\n",
              "      <td>CS-97003</td>\n",
              "      <td>98</td>\n",
              "      <td>85</td>\n",
              "    </tr>\n",
              "    <tr>\n",
              "      <th>3</th>\n",
              "      <td>CS-97004</td>\n",
              "      <td>55</td>\n",
              "      <td>75</td>\n",
              "    </tr>\n",
              "    <tr>\n",
              "      <th>4</th>\n",
              "      <td>CS-97005</td>\n",
              "      <td>93</td>\n",
              "      <td>93</td>\n",
              "    </tr>\n",
              "    <tr>\n",
              "      <th>...</th>\n",
              "      <td>...</td>\n",
              "      <td>...</td>\n",
              "      <td>...</td>\n",
              "    </tr>\n",
              "    <tr>\n",
              "      <th>566</th>\n",
              "      <td>CS-97567</td>\n",
              "      <td>85</td>\n",
              "      <td>98</td>\n",
              "    </tr>\n",
              "    <tr>\n",
              "      <th>567</th>\n",
              "      <td>CS-97568</td>\n",
              "      <td>100</td>\n",
              "      <td>98</td>\n",
              "    </tr>\n",
              "    <tr>\n",
              "      <th>568</th>\n",
              "      <td>CS-97569</td>\n",
              "      <td>85</td>\n",
              "      <td>98</td>\n",
              "    </tr>\n",
              "    <tr>\n",
              "      <th>569</th>\n",
              "      <td>CS-97570</td>\n",
              "      <td>98</td>\n",
              "      <td>90</td>\n",
              "    </tr>\n",
              "    <tr>\n",
              "      <th>570</th>\n",
              "      <td>CS-97571</td>\n",
              "      <td>70</td>\n",
              "      <td>55</td>\n",
              "    </tr>\n",
              "  </tbody>\n",
              "</table>\n",
              "<p>571 rows × 3 columns</p>\n",
              "</div>\n",
              "      <button class=\"colab-df-convert\" onclick=\"convertToInteractive('df-9c3eeafb-582c-45bf-889e-237c135b0b2d')\"\n",
              "              title=\"Convert this dataframe to an interactive table.\"\n",
              "              style=\"display:none;\">\n",
              "        \n",
              "  <svg xmlns=\"http://www.w3.org/2000/svg\" height=\"24px\"viewBox=\"0 0 24 24\"\n",
              "       width=\"24px\">\n",
              "    <path d=\"M0 0h24v24H0V0z\" fill=\"none\"/>\n",
              "    <path d=\"M18.56 5.44l.94 2.06.94-2.06 2.06-.94-2.06-.94-.94-2.06-.94 2.06-2.06.94zm-11 1L8.5 8.5l.94-2.06 2.06-.94-2.06-.94L8.5 2.5l-.94 2.06-2.06.94zm10 10l.94 2.06.94-2.06 2.06-.94-2.06-.94-.94-2.06-.94 2.06-2.06.94z\"/><path d=\"M17.41 7.96l-1.37-1.37c-.4-.4-.92-.59-1.43-.59-.52 0-1.04.2-1.43.59L10.3 9.45l-7.72 7.72c-.78.78-.78 2.05 0 2.83L4 21.41c.39.39.9.59 1.41.59.51 0 1.02-.2 1.41-.59l7.78-7.78 2.81-2.81c.8-.78.8-2.07 0-2.86zM5.41 20L4 18.59l7.72-7.72 1.47 1.35L5.41 20z\"/>\n",
              "  </svg>\n",
              "      </button>\n",
              "      \n",
              "  <style>\n",
              "    .colab-df-container {\n",
              "      display:flex;\n",
              "      flex-wrap:wrap;\n",
              "      gap: 12px;\n",
              "    }\n",
              "\n",
              "    .colab-df-convert {\n",
              "      background-color: #E8F0FE;\n",
              "      border: none;\n",
              "      border-radius: 50%;\n",
              "      cursor: pointer;\n",
              "      display: none;\n",
              "      fill: #1967D2;\n",
              "      height: 32px;\n",
              "      padding: 0 0 0 0;\n",
              "      width: 32px;\n",
              "    }\n",
              "\n",
              "    .colab-df-convert:hover {\n",
              "      background-color: #E2EBFA;\n",
              "      box-shadow: 0px 1px 2px rgba(60, 64, 67, 0.3), 0px 1px 3px 1px rgba(60, 64, 67, 0.15);\n",
              "      fill: #174EA6;\n",
              "    }\n",
              "\n",
              "    [theme=dark] .colab-df-convert {\n",
              "      background-color: #3B4455;\n",
              "      fill: #D2E3FC;\n",
              "    }\n",
              "\n",
              "    [theme=dark] .colab-df-convert:hover {\n",
              "      background-color: #434B5C;\n",
              "      box-shadow: 0px 1px 3px 1px rgba(0, 0, 0, 0.15);\n",
              "      filter: drop-shadow(0px 1px 2px rgba(0, 0, 0, 0.3));\n",
              "      fill: #FFFFFF;\n",
              "    }\n",
              "  </style>\n",
              "\n",
              "      <script>\n",
              "        const buttonEl =\n",
              "          document.querySelector('#df-9c3eeafb-582c-45bf-889e-237c135b0b2d button.colab-df-convert');\n",
              "        buttonEl.style.display =\n",
              "          google.colab.kernel.accessAllowed ? 'block' : 'none';\n",
              "\n",
              "        async function convertToInteractive(key) {\n",
              "          const element = document.querySelector('#df-9c3eeafb-582c-45bf-889e-237c135b0b2d');\n",
              "          const dataTable =\n",
              "            await google.colab.kernel.invokeFunction('convertToInteractive',\n",
              "                                                     [key], {});\n",
              "          if (!dataTable) return;\n",
              "\n",
              "          const docLinkHtml = 'Like what you see? Visit the ' +\n",
              "            '<a target=\"_blank\" href=https://colab.research.google.com/notebooks/data_table.ipynb>data table notebook</a>'\n",
              "            + ' to learn more about interactive tables.';\n",
              "          element.innerHTML = '';\n",
              "          dataTable['output_type'] = 'display_data';\n",
              "          await google.colab.output.renderOutput(dataTable, element);\n",
              "          const docLink = document.createElement('div');\n",
              "          docLink.innerHTML = docLinkHtml;\n",
              "          element.appendChild(docLink);\n",
              "        }\n",
              "      </script>\n",
              "    </div>\n",
              "  </div>\n",
              "  "
            ]
          },
          "metadata": {},
          "execution_count": 5
        }
      ]
    },
    {
      "cell_type": "markdown",
      "source": [
        "A partir daqui são realizadas todas as contas."
      ],
      "metadata": {
        "id": "srRkskT-3gJA"
      }
    },
    {
      "cell_type": "markdown",
      "source": [
        "Mean"
      ],
      "metadata": {
        "id": "vLoyT1ti3if3"
      }
    },
    {
      "cell_type": "code",
      "source": [
        "ph_average = 0 \n",
        "hs_average = 0\n",
        "for i in range(len(df)):\n",
        "  ph_average+= df.loc[i, \"PH-121\"]\n",
        "  hs_average+= df.loc[i, \"HS-101\"]\n",
        "\n",
        "ph_average /= len(df)\n",
        "hs_average /= len(df)\n",
        "print(\"PH_average\",ph_average)\n",
        "print(\"HS_average\",hs_average)\n"
      ],
      "metadata": {
        "colab": {
          "base_uri": "https://localhost:8080/"
        },
        "id": "PmCxcVUzw1Wr",
        "outputId": "780f822f-3c29-4374-bf00-29bf681cadc1"
      },
      "execution_count": null,
      "outputs": [
        {
          "output_type": "stream",
          "name": "stdout",
          "text": [
            "PH_average 83.92119089316988\n",
            "HS_average 78.50262697022767\n"
          ]
        }
      ]
    },
    {
      "cell_type": "markdown",
      "source": [
        "Sample variance"
      ],
      "metadata": {
        "id": "jx3K4nNYx-Yr"
      }
    },
    {
      "cell_type": "code",
      "source": [
        "ph_variance = 0 \n",
        "hs_variance = 0\n",
        "for i in range(len(df)):\n",
        "  ph_variance+= (df.loc[i, \"PH-121\"] - ph_average)**2\n",
        "  hs_variance+= (df.loc[i, \"HS-101\"] - hs_average)**2\n",
        "\n",
        "ph_variance /= len(df)\n",
        "hs_variance /= len(df)\n",
        "print(\"PH_variance\",ph_variance)\n",
        "print(\"HS_variance\",hs_variance)"
      ],
      "metadata": {
        "colab": {
          "base_uri": "https://localhost:8080/"
        },
        "id": "zfxBc-fwy0OY",
        "outputId": "de33757c-4dda-4873-8826-2f0aed314749"
      },
      "execution_count": null,
      "outputs": [
        {
          "output_type": "stream",
          "name": "stdout",
          "text": [
            "PH_variance 221.16892047319232\n",
            "HS_variance 178.83493180305558\n"
          ]
        }
      ]
    },
    {
      "cell_type": "markdown",
      "source": [
        "Sample standard deviation"
      ],
      "metadata": {
        "id": "QxYHk3sfyFIw"
      }
    },
    {
      "cell_type": "code",
      "source": [
        "ph_standard_deviation = math.sqrt(ph_variance)\n",
        "hs_standard_deviation = math.sqrt(hs_variance)\n",
        "print(\"PH_standard_deviation\",ph_standard_deviation)\n",
        "print(\"HS_standard_deviation\",hs_standard_deviation)"
      ],
      "metadata": {
        "colab": {
          "base_uri": "https://localhost:8080/"
        },
        "id": "1rbZgPEhz7kK",
        "outputId": "362620b0-d218-416b-f738-f8500621472a"
      },
      "execution_count": null,
      "outputs": [
        {
          "output_type": "stream",
          "name": "stdout",
          "text": [
            "PH_standard_deviation 14.87174907242562\n",
            "HS_standard_deviation 13.372917849259958\n"
          ]
        }
      ]
    },
    {
      "cell_type": "markdown",
      "source": [
        "Sample covariance"
      ],
      "metadata": {
        "id": "BzVgCk2vyDLd"
      }
    },
    {
      "cell_type": "code",
      "source": [
        "sample_covariance = 0 \n",
        "for i in range(len(df)):\n",
        "  ph = (df.loc[i, \"PH-121\"] - ph_average)\n",
        "  hs = (df.loc[i, \"HS-101\"] - hs_average)\n",
        "  sample_covariance += ph*hs\n",
        "\n",
        "sample_covariance/=len(df)\n",
        "print(\"Sample_covariance\",sample_covariance)"
      ],
      "metadata": {
        "colab": {
          "base_uri": "https://localhost:8080/"
        },
        "id": "CK_DRlNF0t17",
        "outputId": "b2325a9e-4f1a-4c83-9b57-f2ca6be89411"
      },
      "execution_count": null,
      "outputs": [
        {
          "output_type": "stream",
          "name": "stdout",
          "text": [
            "Sample_covariance 85.3215730536956\n"
          ]
        }
      ]
    },
    {
      "cell_type": "markdown",
      "source": [
        "Sample correlation coefficient"
      ],
      "metadata": {
        "id": "LHJ8igg_yHz_"
      }
    },
    {
      "cell_type": "code",
      "source": [
        "sample_correlation_coefficient= sample_covariance/(ph_standard_deviation*hs_standard_deviation)\n",
        "print(\"Sample_correlation_coefficient\",sample_correlation_coefficient)"
      ],
      "metadata": {
        "colab": {
          "base_uri": "https://localhost:8080/"
        },
        "id": "cuPOuPoo1QtI",
        "outputId": "3856332f-24e4-4743-9c8f-6ec88527c4a5"
      },
      "execution_count": null,
      "outputs": [
        {
          "output_type": "stream",
          "name": "stdout",
          "text": [
            "Sample_correlation_coefficient 0.4290131734863744\n"
          ]
        }
      ]
    },
    {
      "cell_type": "markdown",
      "source": [
        "O resultado foi 0.42. Assim pode-se dizer que existe uma associação moderada entre as notas dessas 2 disciplinas (PH-121 e "
      ],
      "metadata": {
        "id": "nJSEyi4s3q3g"
      }
    }
  ]
}